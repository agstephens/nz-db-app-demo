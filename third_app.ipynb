{
 "cells": [
  {
   "cell_type": "markdown",
   "id": "c925dc31",
   "metadata": {},
   "source": [
    "# Results from our survey\n",
    "\n",
    "Here are the results. See our report at: https://results.com"
   ]
  },
  {
   "cell_type": "code",
   "execution_count": null,
   "id": "b35df9b1",
   "metadata": {},
   "outputs": [],
   "source": [
    "import panel as pn\n",
    "import numpy as np\n",
    "import pandas as pd\n",
    "import math\n",
    "\n",
    "from bokeh.palettes import Category20c, Category20\n",
    "from bokeh.plotting import figure\n",
    "from bokeh.transform import cumsum\n",
    "\n",
    "pn.extension()"
   ]
  },
  {
   "cell_type": "markdown",
   "id": "85a2002c",
   "metadata": {},
   "source": [
    "## Where is the surveyed DRI located?"
   ]
  },
  {
   "cell_type": "code",
   "execution_count": 176,
   "id": "195e530d",
   "metadata": {},
   "outputs": [],
   "source": [
    "df = pd.read_csv(\"mock_data.tsv\", sep=\"\\t\")\n",
    "\n",
    "loc_counts = df.location.value_counts()\n",
    "loc_counts\n",
    "\n",
    "data = pd.Series(loc_counts).reset_index(name='value').rename(columns={'index':'location'})\n",
    "data['angle'] = data['value'] / data['value'].sum() * 2 * math.pi\n",
    "data['color'] = Category20c[len(data)]"
   ]
  },
  {
   "cell_type": "code",
   "execution_count": 177,
   "id": "4ebb903b",
   "metadata": {},
   "outputs": [
    {
     "data": {
      "text/html": [
       "<div>\n",
       "<style scoped>\n",
       "    .dataframe tbody tr th:only-of-type {\n",
       "        vertical-align: middle;\n",
       "    }\n",
       "\n",
       "    .dataframe tbody tr th {\n",
       "        vertical-align: top;\n",
       "    }\n",
       "\n",
       "    .dataframe thead th {\n",
       "        text-align: right;\n",
       "    }\n",
       "</style>\n",
       "<table border=\"1\" class=\"dataframe\">\n",
       "  <thead>\n",
       "    <tr style=\"text-align: right;\">\n",
       "      <th></th>\n",
       "      <th>facility_id</th>\n",
       "      <th>pue</th>\n",
       "      <th>location</th>\n",
       "      <th>importance_of_sustainability_in_decisions</th>\n",
       "      <th>should_have_asked</th>\n",
       "    </tr>\n",
       "  </thead>\n",
       "  <tbody>\n",
       "    <tr>\n",
       "      <th>0</th>\n",
       "      <td>Fac_00001</td>\n",
       "      <td>1.0-1.1</td>\n",
       "      <td>South East</td>\n",
       "      <td>Medium</td>\n",
       "      <td>Net Zero should be about the 80:20 rule - focu...</td>\n",
       "    </tr>\n",
       "    <tr>\n",
       "      <th>1</th>\n",
       "      <td>Fac_00002</td>\n",
       "      <td>1.1-1.2</td>\n",
       "      <td>Northern Scotland</td>\n",
       "      <td>Medium</td>\n",
       "      <td>Nothing I can think of.</td>\n",
       "    </tr>\n",
       "    <tr>\n",
       "      <th>2</th>\n",
       "      <td>Fac_00003</td>\n",
       "      <td>1.2-1.3</td>\n",
       "      <td>North Wales</td>\n",
       "      <td>Low</td>\n",
       "      <td>Should be asking how scientists can be better ...</td>\n",
       "    </tr>\n",
       "    <tr>\n",
       "      <th>3</th>\n",
       "      <td>Fac_00004</td>\n",
       "      <td>&gt;1.3</td>\n",
       "      <td>Northern Scotland</td>\n",
       "      <td>Medium</td>\n",
       "      <td>Should focus on large DRI only. Small units ar...</td>\n",
       "    </tr>\n",
       "    <tr>\n",
       "      <th>4</th>\n",
       "      <td>Fac_00005</td>\n",
       "      <td>Not known</td>\n",
       "      <td>No answer given</td>\n",
       "      <td>No answer given</td>\n",
       "      <td>No answer given</td>\n",
       "    </tr>\n",
       "  </tbody>\n",
       "</table>\n",
       "</div>"
      ],
      "text/plain": [
       "  facility_id        pue           location  \\\n",
       "0   Fac_00001    1.0-1.1         South East   \n",
       "1   Fac_00002    1.1-1.2  Northern Scotland   \n",
       "2   Fac_00003    1.2-1.3        North Wales   \n",
       "3   Fac_00004       >1.3  Northern Scotland   \n",
       "4   Fac_00005  Not known    No answer given   \n",
       "\n",
       "  importance_of_sustainability_in_decisions  \\\n",
       "0                                    Medium   \n",
       "1                                    Medium   \n",
       "2                                       Low   \n",
       "3                                    Medium   \n",
       "4                           No answer given   \n",
       "\n",
       "                                   should_have_asked  \n",
       "0  Net Zero should be about the 80:20 rule - focu...  \n",
       "1                            Nothing I can think of.  \n",
       "2  Should be asking how scientists can be better ...  \n",
       "3  Should focus on large DRI only. Small units ar...  \n",
       "4                                    No answer given  "
      ]
     },
     "execution_count": 177,
     "metadata": {},
     "output_type": "execute_result"
    }
   ],
   "source": [
    "df"
   ]
  },
  {
   "cell_type": "code",
   "execution_count": 180,
   "id": "2fcb8e8f",
   "metadata": {},
   "outputs": [],
   "source": [
    "def plot_drs_facilities(title):\n",
    "    p = figure(plot_height=350, title=title, toolbar_location=None,\n",
    "               tools=\"hover\", tooltips=\"@location: @value\", x_range=(-0.5, 1.0))\n",
    "\n",
    "    r = p.wedge(x=0, y=1, radius=0.4,\n",
    "            start_angle=cumsum('angle', include_zero=True), end_angle=cumsum('angle'),\n",
    "            line_color=\"white\", fill_color='color', legend_field='location', source=data)\n",
    "\n",
    "    p.axis.axis_label = None\n",
    "    p.axis.visible = False\n",
    "    p.grid.grid_line_color = None\n",
    "\n",
    "    bokeh_pane = pn.pane.Bokeh(p, theme=\"dark_minimal\")\n",
    "    return bokeh_pane\n"
   ]
  },
  {
   "cell_type": "code",
   "execution_count": 181,
   "id": "fa5eb3ab",
   "metadata": {},
   "outputs": [
    {
     "data": {
      "text/html": [
       "<div>\n",
       "<style scoped>\n",
       "    .dataframe tbody tr th:only-of-type {\n",
       "        vertical-align: middle;\n",
       "    }\n",
       "\n",
       "    .dataframe tbody tr th {\n",
       "        vertical-align: top;\n",
       "    }\n",
       "\n",
       "    .dataframe thead th {\n",
       "        text-align: right;\n",
       "    }\n",
       "</style>\n",
       "<table border=\"1\" class=\"dataframe\">\n",
       "  <thead>\n",
       "    <tr style=\"text-align: right;\">\n",
       "      <th></th>\n",
       "      <th>location</th>\n",
       "      <th>value</th>\n",
       "      <th>angle</th>\n",
       "      <th>color</th>\n",
       "    </tr>\n",
       "  </thead>\n",
       "  <tbody>\n",
       "    <tr>\n",
       "      <th>0</th>\n",
       "      <td>Northern Scotland</td>\n",
       "      <td>2</td>\n",
       "      <td>2.513274</td>\n",
       "      <td>#3182bd</td>\n",
       "    </tr>\n",
       "    <tr>\n",
       "      <th>1</th>\n",
       "      <td>South East</td>\n",
       "      <td>1</td>\n",
       "      <td>1.256637</td>\n",
       "      <td>#6baed6</td>\n",
       "    </tr>\n",
       "    <tr>\n",
       "      <th>2</th>\n",
       "      <td>North Wales</td>\n",
       "      <td>1</td>\n",
       "      <td>1.256637</td>\n",
       "      <td>#9ecae1</td>\n",
       "    </tr>\n",
       "    <tr>\n",
       "      <th>3</th>\n",
       "      <td>No answer given</td>\n",
       "      <td>1</td>\n",
       "      <td>1.256637</td>\n",
       "      <td>#c6dbef</td>\n",
       "    </tr>\n",
       "  </tbody>\n",
       "</table>\n",
       "</div>"
      ],
      "text/plain": [
       "            location  value     angle    color\n",
       "0  Northern Scotland      2  2.513274  #3182bd\n",
       "1         South East      1  1.256637  #6baed6\n",
       "2        North Wales      1  1.256637  #9ecae1\n",
       "3    No answer given      1  1.256637  #c6dbef"
      ]
     },
     "execution_count": 181,
     "metadata": {},
     "output_type": "execute_result"
    }
   ],
   "source": [
    "data"
   ]
  },
  {
   "cell_type": "code",
   "execution_count": 182,
   "id": "9cf78649",
   "metadata": {},
   "outputs": [],
   "source": [
    "## Some work on the \"What should we have asked?\" question\n",
    "#pn.Spacer?"
   ]
  },
  {
   "cell_type": "code",
   "execution_count": 183,
   "id": "5cdeaa68",
   "metadata": {},
   "outputs": [],
   "source": [
    "#should_have_asked = df.should_have_asked\n",
    "\n",
    "\n",
    "def show_what_should_have_asked(fid):\n",
    "    resp = df[df.facility_id == f\"Fac_0000{fid}\"].should_have_asked.iloc[0]\n",
    "    pane = pn.pane.Markdown(f\"Facility **{fid}** said:\\n\\n> '{resp}'\")\n",
    "    return pane\n",
    "\n",
    "    \n",
    "fac_id = pn.widgets.IntSlider(name=\"Facility ID\", value=1, start=1, end=len(df))"
   ]
  },
  {
   "cell_type": "code",
   "execution_count": 184,
   "id": "6ac574a2",
   "metadata": {},
   "outputs": [],
   "source": [
    "# fid = 2\n",
    "# resp = df[df.facility_id == f\"Fac_0000{fid}\"].should_have_asked"
   ]
  },
  {
   "cell_type": "code",
   "execution_count": 185,
   "id": "76d2d271",
   "metadata": {},
   "outputs": [],
   "source": [
    "text_input = pn.widgets.TextInput(name='Your name for the pie chart', value='Location of surveyed DRS Facilities')\n",
    "\n",
    "#interactive = \n",
    "#third_app = pn.Column(text_input, interactive)"
   ]
  },
  {
   "cell_type": "code",
   "execution_count": 186,
   "id": "d5e40109",
   "metadata": {},
   "outputs": [],
   "source": [
    "gspec = pn.GridSpec(sizing_mode='stretch_both', max_height=800, max_width=800)\n",
    "\n",
    "gspec[0,:] = pn.Spacer(background=\"#0000FF\", max_height=20)\n",
    "gspec[1,:] = pn.Column(fac_id, pn.bind(show_what_should_have_asked, fac_id))\n",
    "gspec[2,:] = pn.Spacer(background=\"#0000FF\", max_height=20)\n",
    "gspec[3:6,:] = pn.Column(text_input, \n",
    "                         pn.bind(plot_drs_facilities, title=text_input))\n"
   ]
  },
  {
   "cell_type": "code",
   "execution_count": 173,
   "id": "8ec3235f",
   "metadata": {},
   "outputs": [
    {
     "data": {},
     "metadata": {},
     "output_type": "display_data"
    },
    {
     "data": {
      "application/vnd.holoviews_exec.v0+json": "",
      "text/html": [
       "<div id='5417'>\n",
       "  <div class=\"bk-root\" id=\"2dce2f18-2471-4661-bee9-3c2f360204d2\" data-root-id=\"5417\"></div>\n",
       "</div>\n",
       "<script type=\"application/javascript\">(function(root) {\n",
       "  function embed_document(root) {\n",
       "    var docs_json = {\"9258aa72-5cb7-4245-a688-971411167877\":{\"defs\":[{\"extends\":null,\"module\":null,\"name\":\"ReactiveHTML1\",\"overrides\":[],\"properties\":[]},{\"extends\":null,\"module\":null,\"name\":\"FlexBox1\",\"overrides\":[],\"properties\":[{\"default\":\"flex-start\",\"kind\":null,\"name\":\"align_content\"},{\"default\":\"flex-start\",\"kind\":null,\"name\":\"align_items\"},{\"default\":\"row\",\"kind\":null,\"name\":\"flex_direction\"},{\"default\":\"wrap\",\"kind\":null,\"name\":\"flex_wrap\"},{\"default\":\"flex-start\",\"kind\":null,\"name\":\"justify_content\"}]},{\"extends\":null,\"module\":null,\"name\":\"GridStack1\",\"overrides\":[],\"properties\":[{\"default\":\"warn\",\"kind\":null,\"name\":\"mode\"},{\"default\":null,\"kind\":null,\"name\":\"ncols\"},{\"default\":null,\"kind\":null,\"name\":\"nrows\"},{\"default\":true,\"kind\":null,\"name\":\"allow_resize\"},{\"default\":true,\"kind\":null,\"name\":\"allow_drag\"},{\"default\":[],\"kind\":null,\"name\":\"state\"}]},{\"extends\":null,\"module\":null,\"name\":\"click1\",\"overrides\":[],\"properties\":[{\"default\":\"\",\"kind\":null,\"name\":\"terminal_output\"},{\"default\":\"\",\"kind\":null,\"name\":\"debug_name\"},{\"default\":0,\"kind\":null,\"name\":\"clears\"}]},{\"extends\":null,\"module\":null,\"name\":\"NotificationAreaBase1\",\"overrides\":[],\"properties\":[{\"default\":\"bottom-right\",\"kind\":null,\"name\":\"position\"},{\"default\":0,\"kind\":null,\"name\":\"_clear\"}]},{\"extends\":null,\"module\":null,\"name\":\"NotificationArea1\",\"overrides\":[],\"properties\":[{\"default\":[],\"kind\":null,\"name\":\"notifications\"},{\"default\":\"bottom-right\",\"kind\":null,\"name\":\"position\"},{\"default\":0,\"kind\":null,\"name\":\"_clear\"},{\"default\":[{\"background\":\"#ffc107\",\"icon\":{\"className\":\"fas fa-exclamation-triangle\",\"color\":\"white\",\"tagName\":\"i\"},\"type\":\"warning\"},{\"background\":\"#007bff\",\"icon\":{\"className\":\"fas fa-info-circle\",\"color\":\"white\",\"tagName\":\"i\"},\"type\":\"info\"}],\"kind\":null,\"name\":\"types\"}]},{\"extends\":null,\"module\":null,\"name\":\"Notification\",\"overrides\":[],\"properties\":[{\"default\":null,\"kind\":null,\"name\":\"background\"},{\"default\":3000,\"kind\":null,\"name\":\"duration\"},{\"default\":null,\"kind\":null,\"name\":\"icon\"},{\"default\":\"\",\"kind\":null,\"name\":\"message\"},{\"default\":null,\"kind\":null,\"name\":\"notification_type\"},{\"default\":false,\"kind\":null,\"name\":\"_destroyed\"}]},{\"extends\":null,\"module\":null,\"name\":\"TemplateActions1\",\"overrides\":[],\"properties\":[{\"default\":0,\"kind\":null,\"name\":\"open_modal\"},{\"default\":0,\"kind\":null,\"name\":\"close_modal\"}]},{\"extends\":null,\"module\":null,\"name\":\"MaterialTemplateActions1\",\"overrides\":[],\"properties\":[{\"default\":0,\"kind\":null,\"name\":\"open_modal\"},{\"default\":0,\"kind\":null,\"name\":\"close_modal\"}]}],\"roots\":{\"references\":[{\"attributes\":{},\"id\":\"5413\",\"type\":\"UnionRenderers\"},{\"attributes\":{\"start\":-0.5},\"id\":\"5378\",\"type\":\"Range1d\"},{\"attributes\":{},\"id\":\"5382\",\"type\":\"LinearScale\"},{\"attributes\":{\"client_comm_id\":\"5fd90d58151a4b7c8d11091109f3b23b\",\"comm_id\":\"61e3df5da4704a4291fd09b52799d54a\",\"plot_id\":\"5417\"},\"id\":\"5472\",\"type\":\"panel.models.comm_manager.CommManager\"},{\"attributes\":{},\"id\":\"5391\",\"type\":\"BasicTicker\"},{\"attributes\":{},\"id\":\"5414\",\"type\":\"Selection\"},{\"attributes\":{\"axis\":{\"id\":\"5386\"},\"coordinates\":null,\"grid_line_alpha\":0.25,\"grid_line_color\":null,\"group\":null,\"ticker\":null},\"id\":\"5389\",\"type\":\"Grid\"},{\"attributes\":{},\"id\":\"5380\",\"type\":\"DataRange1d\"},{\"attributes\":{\"field\":\"angle\"},\"id\":\"5398\",\"type\":\"CumSum\"},{\"attributes\":{\"data\":{\"angle\":{\"__ndarray__\":\"4PCcdi8bBEDg8Jx2Lxv0P+DwnHYvG/Q/4PCcdi8b9D8=\",\"dtype\":\"float64\",\"order\":\"little\",\"shape\":[4]},\"color\":[\"#3182bd\",\"#6baed6\",\"#9ecae1\",\"#c6dbef\"],\"index\":[0,1,2,3],\"location\":[\"Northern Scotland\",\"South East\",\"North Wales\",\"No answer given\"],\"value\":[2,1,1,1]},\"selected\":{\"id\":\"5414\"},\"selection_policy\":{\"id\":\"5413\"}},\"id\":\"5399\",\"type\":\"ColumnDataSource\"},{\"attributes\":{},\"id\":\"5387\",\"type\":\"BasicTicker\"},{\"attributes\":{\"children\":[{\"id\":\"5420\"},{\"id\":\"5421\"}],\"margin\":[0,0,0,0],\"name\":\"Column00725\",\"sizing_mode\":\"stretch_both\"},\"id\":\"5419\",\"type\":\"Column\"},{\"attributes\":{\"axis\":{\"id\":\"5390\"},\"coordinates\":null,\"dimension\":1,\"grid_line_alpha\":0.25,\"grid_line_color\":null,\"group\":null,\"ticker\":null},\"id\":\"5393\",\"type\":\"Grid\"},{\"attributes\":{\"end_angle\":{\"expr\":{\"id\":\"5398\"}},\"fill_color\":{\"field\":\"color\"},\"line_color\":{\"value\":\"white\"},\"radius\":{\"value\":0.4},\"start_angle\":{\"expr\":{\"id\":\"5397\"}},\"x\":{\"value\":0},\"y\":{\"value\":1}},\"id\":\"5401\",\"type\":\"Wedge\"},{\"attributes\":{\"background\":\"#0000FF\",\"margin\":[5,5,5,5],\"max_height\":20,\"name\":\"Spacer00714\",\"sizing_mode\":\"stretch_both\"},\"id\":\"5418\",\"type\":\"Spacer\"},{\"attributes\":{\"callback\":null,\"tooltips\":\"@location: @value\"},\"id\":\"5394\",\"type\":\"HoverTool\"},{\"attributes\":{\"background_fill_alpha\":0.25,\"background_fill_color\":\"#20262B\",\"border_line_alpha\":0,\"coordinates\":null,\"glyph_width\":15,\"group\":null,\"items\":[{\"id\":\"5416\"}],\"label_standoff\":8,\"label_text_color\":\"#E0E0E0\",\"label_text_font\":\"Helvetica\",\"label_text_font_size\":\"1.025em\",\"spacing\":8},\"id\":\"5415\",\"type\":\"Legend\"},{\"attributes\":{\"end\":5,\"margin\":[5,10,5,10],\"start\":1,\"title\":\"Facility ID\",\"value\":2},\"id\":\"5420\",\"type\":\"Slider\"},{\"attributes\":{\"end_angle\":{\"expr\":{\"id\":\"5398\"}},\"fill_alpha\":{\"value\":0.2},\"fill_color\":{\"field\":\"color\"},\"hatch_alpha\":{\"value\":0.2},\"line_alpha\":{\"value\":0.2},\"line_color\":{\"value\":\"white\"},\"radius\":{\"value\":0.4},\"start_angle\":{\"expr\":{\"id\":\"5397\"}},\"x\":{\"value\":0},\"y\":{\"value\":1}},\"id\":\"5403\",\"type\":\"Wedge\"},{\"attributes\":{\"label\":{\"field\":\"location\"},\"renderers\":[{\"id\":\"5404\"}]},\"id\":\"5416\",\"type\":\"LegendItem\"},{\"attributes\":{},\"id\":\"5408\",\"type\":\"BasicTickFormatter\"},{\"attributes\":{\"children\":[{\"id\":\"5425\"},{\"id\":\"5426\"}],\"margin\":[0,0,0,0],\"name\":\"Column00738\",\"sizing_mode\":\"stretch_both\"},\"id\":\"5424\",\"type\":\"Column\"},{\"attributes\":{\"axis_label_standoff\":10,\"axis_label_text_color\":\"#E0E0E0\",\"axis_label_text_font\":\"Helvetica\",\"axis_label_text_font_size\":\"1.25em\",\"axis_label_text_font_style\":\"normal\",\"axis_line_alpha\":0,\"axis_line_color\":\"#E0E0E0\",\"coordinates\":null,\"formatter\":{\"id\":\"5411\"},\"group\":null,\"major_label_policy\":{\"id\":\"5412\"},\"major_label_text_color\":\"#E0E0E0\",\"major_label_text_font\":\"Helvetica\",\"major_label_text_font_size\":\"1.025em\",\"major_tick_line_alpha\":0,\"major_tick_line_color\":\"#E0E0E0\",\"minor_tick_line_alpha\":0,\"minor_tick_line_color\":\"#E0E0E0\",\"ticker\":{\"id\":\"5387\"},\"visible\":false},\"id\":\"5386\",\"type\":\"LinearAxis\"},{\"attributes\":{\"children\":[{\"id\":\"5422\"}],\"margin\":[0,0,0,0],\"name\":\"Row00720\"},\"id\":\"5421\",\"type\":\"Row\"},{\"attributes\":{\"css_classes\":[\"markdown\"],\"margin\":[5,5,5,5],\"name\":\"Markdown00721\",\"text\":\"&lt;p&gt;Facility &lt;strong&gt;2&lt;/strong&gt; said:&lt;/p&gt;\\n&lt;blockquote&gt;\\n&lt;p&gt;&amp;lsquo;Nothing I can think of.&amp;rsquo;&lt;/p&gt;\\n&lt;/blockquote&gt;\"},\"id\":\"5422\",\"type\":\"panel.models.markup.HTML\"},{\"attributes\":{},\"id\":\"5409\",\"type\":\"AllLabels\"},{\"attributes\":{\"background_fill_color\":\"#3f3f3f\",\"below\":[{\"id\":\"5386\"}],\"border_fill_color\":\"#2f2f2f\",\"center\":[{\"id\":\"5389\"},{\"id\":\"5393\"},{\"id\":\"5415\"}],\"height\":350,\"left\":[{\"id\":\"5390\"}],\"outline_line_alpha\":0.25,\"outline_line_color\":\"#E0E0E0\",\"renderers\":[{\"id\":\"5404\"}],\"title\":{\"id\":\"5376\"},\"toolbar\":{\"id\":\"5395\"},\"toolbar_location\":null,\"x_range\":{\"id\":\"5378\"},\"x_scale\":{\"id\":\"5382\"},\"y_range\":{\"id\":\"5380\"},\"y_scale\":{\"id\":\"5384\"}},\"id\":\"5375\",\"subtype\":\"Figure\",\"type\":\"Plot\"},{\"attributes\":{\"coordinates\":null,\"data_source\":{\"id\":\"5399\"},\"glyph\":{\"id\":\"5401\"},\"group\":null,\"hover_glyph\":null,\"muted_glyph\":{\"id\":\"5403\"},\"nonselection_glyph\":{\"id\":\"5402\"},\"view\":{\"id\":\"5405\"}},\"id\":\"5404\",\"type\":\"GlyphRenderer\"},{\"attributes\":{\"source\":{\"id\":\"5399\"}},\"id\":\"5405\",\"type\":\"CDSView\"},{\"attributes\":{\"field\":\"angle\",\"include_zero\":true},\"id\":\"5397\",\"type\":\"CumSum\"},{\"attributes\":{},\"id\":\"5411\",\"type\":\"BasicTickFormatter\"},{\"attributes\":{\"margin\":[5,10,5,10],\"max_length\":5000,\"title\":\"Your name for the pie chart\",\"value\":\"Location of surveyed DRS Facilities\"},\"id\":\"5425\",\"type\":\"TextInput\"},{\"attributes\":{},\"id\":\"5384\",\"type\":\"LinearScale\"},{\"attributes\":{\"children\":[{\"id\":\"5375\"}],\"margin\":[0,0,0,0],\"name\":\"Row00733\"},\"id\":\"5426\",\"type\":\"Row\"},{\"attributes\":{\"tools\":[{\"id\":\"5394\"}]},\"id\":\"5395\",\"type\":\"Toolbar\"},{\"attributes\":{},\"id\":\"5412\",\"type\":\"AllLabels\"},{\"attributes\":{\"coordinates\":null,\"group\":null,\"text\":\"Location of surveyed DRS Facilities\",\"text_color\":\"#E0E0E0\",\"text_font\":\"Helvetica\",\"text_font_size\":\"1.15em\"},\"id\":\"5376\",\"type\":\"Title\"},{\"attributes\":{\"background\":\"#0000FF\",\"margin\":[5,5,5,5],\"max_height\":20,\"name\":\"Spacer00727\",\"sizing_mode\":\"stretch_both\"},\"id\":\"5423\",\"type\":\"Spacer\"},{\"attributes\":{\"children\":[[{\"id\":\"5418\"},0,0,1,1],[{\"id\":\"5419\"},1,0,1,1],[{\"id\":\"5423\"},2,0,1,1],[{\"id\":\"5424\"},3,0,3,1]],\"height\":600,\"margin\":[5,5,5,5],\"max_height\":800,\"max_width\":800,\"min_height\":600,\"min_width\":600,\"name\":\"GridSpec00713\",\"sizing_mode\":\"stretch_both\",\"width\":600},\"id\":\"5417\",\"type\":\"GridBox\"},{\"attributes\":{\"axis_label_standoff\":10,\"axis_label_text_color\":\"#E0E0E0\",\"axis_label_text_font\":\"Helvetica\",\"axis_label_text_font_size\":\"1.25em\",\"axis_label_text_font_style\":\"normal\",\"axis_line_alpha\":0,\"axis_line_color\":\"#E0E0E0\",\"coordinates\":null,\"formatter\":{\"id\":\"5408\"},\"group\":null,\"major_label_policy\":{\"id\":\"5409\"},\"major_label_text_color\":\"#E0E0E0\",\"major_label_text_font\":\"Helvetica\",\"major_label_text_font_size\":\"1.025em\",\"major_tick_line_alpha\":0,\"major_tick_line_color\":\"#E0E0E0\",\"minor_tick_line_alpha\":0,\"minor_tick_line_color\":\"#E0E0E0\",\"ticker\":{\"id\":\"5391\"},\"visible\":false},\"id\":\"5390\",\"type\":\"LinearAxis\"},{\"attributes\":{\"end_angle\":{\"expr\":{\"id\":\"5398\"}},\"fill_alpha\":{\"value\":0.1},\"fill_color\":{\"field\":\"color\"},\"hatch_alpha\":{\"value\":0.1},\"line_alpha\":{\"value\":0.1},\"line_color\":{\"value\":\"white\"},\"radius\":{\"value\":0.4},\"start_angle\":{\"expr\":{\"id\":\"5397\"}},\"x\":{\"value\":0},\"y\":{\"value\":1}},\"id\":\"5402\",\"type\":\"Wedge\"}],\"root_ids\":[\"5417\",\"5472\"]},\"title\":\"Bokeh Application\",\"version\":\"2.4.3\"}};\n",
       "    var render_items = [{\"docid\":\"9258aa72-5cb7-4245-a688-971411167877\",\"root_ids\":[\"5417\"],\"roots\":{\"5417\":\"2dce2f18-2471-4661-bee9-3c2f360204d2\"}}];\n",
       "    root.Bokeh.embed.embed_items_notebook(docs_json, render_items);\n",
       "    for (const render_item of render_items) {\n",
       "      for (const root_id of render_item.root_ids) {\n",
       "\tconst id_el = document.getElementById(root_id)\n",
       "\tif (id_el.children.length && (id_el.children[0].className === 'bk-root')) {\n",
       "\t  const root_el = id_el.children[0]\n",
       "\t  root_el.id = root_el.id + '-rendered'\n",
       "\t}\n",
       "      }\n",
       "    }\n",
       "  }\n",
       "  if (root.Bokeh !== undefined && root.Bokeh.Panel !== undefined) {\n",
       "    embed_document(root);\n",
       "  } else {\n",
       "    var attempts = 0;\n",
       "    var timer = setInterval(function(root) {\n",
       "      if (root.Bokeh !== undefined && root.Bokeh.Panel !== undefined) {\n",
       "        clearInterval(timer);\n",
       "        embed_document(root);\n",
       "      } else if (document.readyState == \"complete\") {\n",
       "        attempts++;\n",
       "        if (attempts > 200) {\n",
       "          clearInterval(timer);\n",
       "          console.log(\"Bokeh: ERROR: Unable to run BokehJS code because BokehJS library is missing\");\n",
       "        }\n",
       "      }\n",
       "    }, 25, root)\n",
       "  }\n",
       "})(window);</script>"
      ],
      "text/plain": [
       "GridSpec(max_height=800, max_width=800, ncols=1, nrows=6, sizing_mode='stretch_both')\n",
       "    [0] Spacer(background='#0000FF', max_height=20, sizing_mode='stretch_both')\n",
       "    [1] Column(sizing_mode='stretch_both')\n",
       "        [0] IntSlider(end=5, name='Facility ID', start=1, value=2)\n",
       "        [1] ParamFunction(function)\n",
       "    [2] Spacer(background='#0000FF', max_height=20, sizing_mode='stretch_both')\n",
       "    [3] Column(sizing_mode='stretch_both')\n",
       "        [0] TextInput(name='Your name for t..., value='Location of s...)\n",
       "        [1] ParamFunction(function)"
      ]
     },
     "execution_count": 173,
     "metadata": {
      "application/vnd.holoviews_exec.v0+json": {
       "id": "5417"
      }
     },
     "output_type": "execute_result"
    }
   ],
   "source": [
    "gspec.servable()"
   ]
  },
  {
   "cell_type": "code",
   "execution_count": null,
   "id": "bcaead58",
   "metadata": {},
   "outputs": [],
   "source": []
  },
  {
   "cell_type": "code",
   "execution_count": null,
   "id": "f545e527",
   "metadata": {},
   "outputs": [],
   "source": []
  }
 ],
 "metadata": {
  "kernelspec": {
   "display_name": "Python 3 (ipykernel)",
   "language": "python",
   "name": "python3"
  },
  "language_info": {
   "codemirror_mode": {
    "name": "ipython",
    "version": 3
   },
   "file_extension": ".py",
   "mimetype": "text/x-python",
   "name": "python",
   "nbconvert_exporter": "python",
   "pygments_lexer": "ipython3",
   "version": "3.9.12"
  }
 },
 "nbformat": 4,
 "nbformat_minor": 5
}
